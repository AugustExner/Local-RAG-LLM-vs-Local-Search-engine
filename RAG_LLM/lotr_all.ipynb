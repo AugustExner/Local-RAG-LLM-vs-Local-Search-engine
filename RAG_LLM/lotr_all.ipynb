{
 "cells": [
  {
   "cell_type": "markdown",
   "id": "636cb21a-e772-401e-bf41-04abbef6e60e",
   "metadata": {},
   "source": [
    "# Fetching Data from JSON"
   ]
  },
  {
   "cell_type": "code",
   "execution_count": 1,
   "id": "efb4304d-f484-458f-8b0e-e25847d78cae",
   "metadata": {},
   "outputs": [
    {
     "name": "stdout",
     "output_type": "stream",
     "text": [
      "Note: you may need to restart the kernel to use updated packages.\n"
     ]
    },
    {
     "name": "stderr",
     "output_type": "stream",
     "text": [
      "\n",
      "[notice] A new release of pip is available: 23.2.1 -> 24.3.1\n",
      "[notice] To update, run: python.exe -m pip install --upgrade pip\n"
     ]
    }
   ],
   "source": [
    "%pip install --q jq"
   ]
  },
  {
   "cell_type": "code",
   "execution_count": 2,
   "id": "d5a86515-fc4c-4cdc-8669-e37787faafdf",
   "metadata": {},
   "outputs": [],
   "source": [
    "from langchain_community.document_loaders import JSONLoader"
   ]
  },
  {
   "cell_type": "code",
   "execution_count": 3,
   "id": "49ab9208-6877-4f5c-970e-c186ddff57fb",
   "metadata": {},
   "outputs": [
    {
     "name": "stdout",
     "output_type": "stream",
     "text": [
      "filen er fundet\n"
     ]
    }
   ],
   "source": [
    "import json\n",
    "from pathlib import Path\n",
    "from pprint import pprint\n",
    "\n",
    "\n",
    "loader = JSONLoader(\n",
    "    file_path='output_lotr_all.json',\n",
    "    jq_schema='.',\n",
    "    text_content=False)\n",
    "\n",
    "data = loader.load()\n",
    "\n",
    "if data:\n",
    "    print(\"filen er fundet\")\n",
    "else: \n",
    "    (\"kan ikke finde filen\")"
   ]
  },
  {
   "cell_type": "code",
   "execution_count": 4,
   "id": "92244efb-e3cd-441b-a564-dde8f302d861",
   "metadata": {},
   "outputs": [],
   "source": [
    "#data[0].page_content"
   ]
  },
  {
   "cell_type": "markdown",
   "id": "c81184be-a27e-48ae-ab6c-62064a8d5c37",
   "metadata": {},
   "source": [
    "# Vector Embeddings"
   ]
  },
  {
   "cell_type": "code",
   "execution_count": 5,
   "id": "65f0eb07-86f0-48ec-a19d-5b151064145a",
   "metadata": {
    "scrolled": true
   },
   "outputs": [
    {
     "name": "stdout",
     "output_type": "stream",
     "text": [
      "Note: you may need to restart the kernel to use updated packages.\n"
     ]
    },
    {
     "name": "stderr",
     "output_type": "stream",
     "text": [
      "\n",
      "[notice] A new release of pip is available: 23.2.1 -> 24.3.1\n",
      "[notice] To update, run: python.exe -m pip install --upgrade pip\n"
     ]
    }
   ],
   "source": [
    "%pip --q install ollama"
   ]
  },
  {
   "cell_type": "code",
   "execution_count": 6,
   "id": "52b6333b-8264-4ee0-b320-9427f3caeac8",
   "metadata": {
    "scrolled": true
   },
   "outputs": [],
   "source": [
    "!ollama pull nomic-embed-text"
   ]
  },
  {
   "cell_type": "code",
   "execution_count": 7,
   "id": "310d0e5d-345c-41f0-9dff-7a54a3a9513b",
   "metadata": {},
   "outputs": [
    {
     "name": "stdout",
     "output_type": "stream",
     "text": [
      "NAME                       ID              SIZE      MODIFIED               \n",
      "nomic-embed-text:latest    0a109f422b47    274 MB    Less than a second ago    \n",
      "phi3:latest                4f2222927938    2.2 GB    2 weeks ago               \n",
      "gemma2:latest              ff02c3702f32    5.4 GB    2 weeks ago               \n",
      "llama3:latest              365c0bd3c000    4.7 GB    2 weeks ago               \n",
      "llama3.2:latest            a80c4f17acd5    2.0 GB    8 weeks ago               \n",
      "mistral:latest             f974a74358d6    4.1 GB    8 weeks ago               \n"
     ]
    }
   ],
   "source": [
    "!ollama list"
   ]
  },
  {
   "cell_type": "code",
   "execution_count": 8,
   "id": "a74b04c3-5ea8-4309-9235-b3f5b7fd8f70",
   "metadata": {},
   "outputs": [
    {
     "name": "stdout",
     "output_type": "stream",
     "text": [
      "Collecting protobuf==4.21.0\n",
      "  Obtaining dependency information for protobuf==4.21.0 from https://files.pythonhosted.org/packages/c5/54/23262ba768d9038d14b84679f9c2c51e93f7f47df181e64e4ffcb12ba7da/protobuf-4.21.0-cp310-abi3-win_amd64.whl.metadata\n",
      "  Using cached protobuf-4.21.0-cp310-abi3-win_amd64.whl.metadata (62 bytes)\n",
      "Using cached protobuf-4.21.0-cp310-abi3-win_amd64.whl (524 kB)\n",
      "Installing collected packages: protobuf\n",
      "  Attempting uninstall: protobuf\n",
      "    Found existing installation: protobuf 4.25.5\n",
      "    Uninstalling protobuf-4.25.5:\n",
      "      Successfully uninstalled protobuf-4.25.5\n",
      "Successfully installed protobuf-4.21.0\n",
      "Note: you may need to restart the kernel to use updated packages.\n"
     ]
    },
    {
     "name": "stderr",
     "output_type": "stream",
     "text": [
      "WARNING: The candidate selected for download or install is a yanked version: 'protobuf' candidate (version 4.21.0 at https://files.pythonhosted.org/packages/c5/54/23262ba768d9038d14b84679f9c2c51e93f7f47df181e64e4ffcb12ba7da/protobuf-4.21.0-cp310-abi3-win_amd64.whl (from https://pypi.org/simple/protobuf/))\n",
      "Reason for being yanked: Required python version not configured correctly (https://github.com/protocolbuffers/protobuf/issues/10076)\n",
      "ERROR: pip's dependency resolver does not currently take into account all the packages that are installed. This behaviour is the source of the following dependency conflicts.\n",
      "google-api-core 1.34.1 requires protobuf!=3.20.0,!=3.20.1,!=4.21.0,!=4.21.1,!=4.21.2,!=4.21.3,!=4.21.4,!=4.21.5,<4.0.0dev,>=3.19.5, but you have protobuf 4.21.0 which is incompatible.\n",
      "google-cloud-vision 3.8.0 requires protobuf!=4.21.0,!=4.21.1,!=4.21.2,!=4.21.3,!=4.21.4,!=4.21.5,<6.0.0dev,>=3.20.2, but you have protobuf 4.21.0 which is incompatible.\n",
      "\n",
      "[notice] A new release of pip is available: 23.2.1 -> 24.3.1\n",
      "[notice] To update, run: python.exe -m pip install --upgrade pip\n"
     ]
    }
   ],
   "source": [
    "%pip install protobuf==4.21.0"
   ]
  },
  {
   "cell_type": "code",
   "execution_count": 9,
   "id": "34bfe730-687e-4b14-9678-8fa2d7031f3c",
   "metadata": {},
   "outputs": [
    {
     "name": "stdout",
     "output_type": "stream",
     "text": [
      "Note: you may need to restart the kernel to use updated packages.\n"
     ]
    },
    {
     "name": "stderr",
     "output_type": "stream",
     "text": [
      "\n",
      "[notice] A new release of pip is available: 23.2.1 -> 24.3.1\n",
      "[notice] To update, run: python.exe -m pip install --upgrade pip\n"
     ]
    }
   ],
   "source": [
    "%pip install --q chromadb"
   ]
  },
  {
   "cell_type": "code",
   "execution_count": 10,
   "id": "5a761be7-fff1-494c-a1f3-7a5423ad956d",
   "metadata": {},
   "outputs": [
    {
     "name": "stdout",
     "output_type": "stream",
     "text": [
      "Note: you may need to restart the kernel to use updated packages.\n"
     ]
    },
    {
     "name": "stderr",
     "output_type": "stream",
     "text": [
      "\n",
      "[notice] A new release of pip is available: 23.2.1 -> 24.3.1\n",
      "[notice] To update, run: python.exe -m pip install --upgrade pip\n"
     ]
    }
   ],
   "source": [
    "%pip install --q langchain-text-splitters"
   ]
  },
  {
   "cell_type": "code",
   "execution_count": 11,
   "id": "6bb2486d-3766-49b7-b8c3-f17cb2d71e98",
   "metadata": {},
   "outputs": [
    {
     "name": "stdout",
     "output_type": "stream",
     "text": [
      "Note: you may need to restart the kernel to use updated packages.\n"
     ]
    },
    {
     "name": "stderr",
     "output_type": "stream",
     "text": [
      "\n",
      "[notice] A new release of pip is available: 23.2.1 -> 24.3.1\n",
      "[notice] To update, run: python.exe -m pip install --upgrade pip\n"
     ]
    }
   ],
   "source": [
    "%pip install --q langchain-ollama "
   ]
  },
  {
   "cell_type": "code",
   "execution_count": 12,
   "id": "75516e48-c364-4f20-a2ff-cb6cd661a79f",
   "metadata": {},
   "outputs": [],
   "source": [
    "#from langchain_community.embeddings import OllamaEmbeddings\n"
   ]
  },
  {
   "cell_type": "code",
   "execution_count": 13,
   "id": "7945376f-9685-4a14-a632-d20717189517",
   "metadata": {},
   "outputs": [],
   "source": [
    "from langchain_ollama import OllamaEmbeddings\n",
    "from langchain_text_splitters import RecursiveCharacterTextSplitter\n",
    "from langchain_community.vectorstores import Chroma"
   ]
  },
  {
   "cell_type": "code",
   "execution_count": 14,
   "id": "ac31d0fa-10ab-40cf-b100-bec841363a94",
   "metadata": {
    "scrolled": true
   },
   "outputs": [],
   "source": [
    "#Split and chunck\n",
    "text_splitter = RecursiveCharacterTextSplitter(\n",
    "    # Set a really small chunk size, just to show.\n",
    "    chunk_size=512,\n",
    "    chunk_overlap=50,\n",
    "    length_function=len,\n",
    "    is_separator_regex=False,\n",
    ")\n",
    "\n",
    "chunks = text_splitter.split_documents(data)"
   ]
  },
  {
   "cell_type": "code",
   "execution_count": 15,
   "id": "2eddde67-4ebe-4097-9fda-679f0f3229b0",
   "metadata": {
    "scrolled": true
   },
   "outputs": [
    {
     "name": "stdout",
     "output_type": "stream",
     "text": [
      "page_content='his \\nMiddle-earth\\n \\nlegendarium\\n, written by someone outside the Tolkien family. This literature includes reference works, atlases, thorough examinations, essay collections, biographical, art books, and recipe books. This category excludes, however, literature directly concerning \\nadaptations\\n of Tolkien\\'s works.\\n\\nApart from numerous, singular books by various professors, linguists, Medieval scholars, et cetera, secondary literature also includes many compilative series, such as \\nTolkien' metadata={'source': 'C:\\\\Users\\\\sirah\\\\Documents\\\\UNI\\\\Pony\\\\Lokal chatbot\\\\ollama_pdf_rag-main\\\\ollama_pdf_rag-main\\\\output_lotr_all.json', 'seq_num': 1}\n"
     ]
    }
   ],
   "source": [
    "print(chunks[12])\n"
   ]
  },
  {
   "cell_type": "code",
   "execution_count": 16,
   "id": "d38b38b9-087b-44c6-add3-4bfabe52043c",
   "metadata": {
    "scrolled": true
   },
   "outputs": [
    {
     "name": "stdout",
     "output_type": "stream",
     "text": [
      "No database\n"
     ]
    }
   ],
   "source": [
    "#Add to vector database\n",
    "try:\n",
    "    vector_db.delete_collection()\n",
    "    print(\"Vector database deleted successfully\")\n",
    "except: \n",
    "    print(\"No database\") \n",
    "    \n",
    "vector_db = Chroma.from_documents(\n",
    "    documents = chunks,\n",
    "    embedding = OllamaEmbeddings(model=\"nomic-embed-text\"),\n",
    "    collection_name = \"local-rag\"\n",
    ")"
   ]
  },
  {
   "cell_type": "code",
   "execution_count": 17,
   "id": "2e165878-4ea2-4aef-835e-d8f5b7c2e2f3",
   "metadata": {},
   "outputs": [
    {
     "name": "stdout",
     "output_type": "stream",
     "text": [
      "Database is initialized\n"
     ]
    }
   ],
   "source": [
    "if vector_db:\n",
    "    print(\"Database is initialized\")"
   ]
  },
  {
   "cell_type": "markdown",
   "id": "55cc5bf0-979e-4af5-8d18-a7a2c4cf1706",
   "metadata": {},
   "source": [
    "# Retrieval"
   ]
  },
  {
   "cell_type": "code",
   "execution_count": 18,
   "id": "4cec1f9e-c787-4d23-87e6-e1dca99521d4",
   "metadata": {},
   "outputs": [],
   "source": [
    "from langchain.prompts import ChatPromptTemplate, PromptTemplate\n",
    "from langchain_core.output_parsers import StrOutputParser\n",
    "from langchain_ollama import ChatOllama\n",
    "from langchain_core.runnables import RunnablePassthrough\n",
    "from langchain.retrievers.multi_query import MultiQueryRetriever"
   ]
  },
  {
   "cell_type": "code",
   "execution_count": 19,
   "id": "5b1a3f60-b342-4230-b2fc-1eaf07352d8e",
   "metadata": {},
   "outputs": [],
   "source": [
    "#llm fra ollama\n",
    "local_model = \"llama3.2\"\n",
    "llm = ChatOllama(model=local_model)"
   ]
  },
  {
   "cell_type": "code",
   "execution_count": 20,
   "id": "7d7505b3-aef0-4497-93a4-905a6c5b599a",
   "metadata": {},
   "outputs": [],
   "source": [
    "prompt_to_csv = \"\"\"You are a *Lord of the Rings* expert, specialized in delivering precise answers based on the given knowledge. \n",
    "                Your task is to generate five alternative formulations of the user's question to help retrieve relevant information from a vector database. \n",
    "                The goal is to maximize coverage and specificity while remaining aligned with the original query's intent. \n",
    "                Provide these reformulated questions separated by newlines.\n",
    "\n",
    "                Once the results are retrieved, provide the most concise and accurate answer possible, \n",
    "                ensuring it directly addresses the user's query without unnecessary details.\n",
    "\n",
    "                Original question: {question}\"\"\"\n",
    "QUERY_PROMPT = PromptTemplate(\n",
    "    input_variables=[\"question\"],\n",
    "    template=prompt_to_csv,\n",
    ")"
   ]
  },
  {
   "cell_type": "code",
   "execution_count": 21,
   "id": "a7dadf08-0c39-4b16-ba63-647907190361",
   "metadata": {},
   "outputs": [],
   "source": [
    "retriever = MultiQueryRetriever.from_llm(\n",
    "    vector_db.as_retriever(),\n",
    "    llm,\n",
    "    prompt=QUERY_PROMPT\n",
    ")\n",
    "\n",
    "# RAG prompt\n",
    "template = \"\"\"Answer the question based ONLY on the following context:\n",
    "{context}\n",
    "Question: {question}\n",
    "\"\"\"\n",
    "\n",
    "prompt = ChatPromptTemplate.from_template(template)"
   ]
  },
  {
   "cell_type": "code",
   "execution_count": 22,
   "id": "4c758a51-8791-4a41-b85f-76e553ffb991",
   "metadata": {},
   "outputs": [],
   "source": [
    "chain = (\n",
    "    {\"context\": retriever, \"question\": RunnablePassthrough()}\n",
    "    | prompt\n",
    "    | llm\n",
    "    | StrOutputParser()\n",
    ")"
   ]
  },
  {
   "cell_type": "code",
   "execution_count": 23,
   "id": "ab798bd3-4d8d-41dd-a9dc-869800bf1a4e",
   "metadata": {},
   "outputs": [],
   "source": [
    "#for x in range(5):\n",
    "#    result  = chain.invoke(\"Who are top leaders in different important stats?\")\n",
    "#    print(f\"Run {x + 1}: {result} \\n\" )"
   ]
  },
  {
   "cell_type": "code",
   "execution_count": 24,
   "id": "ad8ccff5-f131-461a-a02c-738b5e330ad1",
   "metadata": {},
   "outputs": [],
   "source": [
    "#chain.invoke(\"Who is Aragorn?\")"
   ]
  },
  {
   "cell_type": "code",
   "execution_count": 25,
   "id": "759866b2-0182-43c5-bc26-44930011bb9b",
   "metadata": {},
   "outputs": [
    {
     "name": "stdout",
     "output_type": "stream",
     "text": [
      "Requirement already satisfied: evaluate in c:\\users\\sirah\\appdata\\local\\programs\\python\\python311\\lib\\site-packages (0.4.2)\n",
      "Requirement already satisfied: datasets>=2.0.0 in c:\\users\\sirah\\appdata\\local\\programs\\python\\python311\\lib\\site-packages (from evaluate) (3.2.0)\n",
      "Requirement already satisfied: numpy>=1.17 in c:\\users\\sirah\\appdata\\local\\programs\\python\\python311\\lib\\site-packages (from evaluate) (1.26.3)\n",
      "Requirement already satisfied: dill in c:\\users\\sirah\\appdata\\local\\programs\\python\\python311\\lib\\site-packages (from evaluate) (0.3.8)\n",
      "Requirement already satisfied: pandas in c:\\users\\sirah\\appdata\\local\\programs\\python\\python311\\lib\\site-packages (from evaluate) (2.1.4)\n",
      "Requirement already satisfied: requests>=2.19.0 in c:\\users\\sirah\\appdata\\local\\programs\\python\\python311\\lib\\site-packages (from evaluate) (2.32.3)\n",
      "Requirement already satisfied: tqdm>=4.62.1 in c:\\users\\sirah\\appdata\\local\\programs\\python\\python311\\lib\\site-packages (from evaluate) (4.67.1)\n",
      "Requirement already satisfied: xxhash in c:\\users\\sirah\\appdata\\local\\programs\\python\\python311\\lib\\site-packages (from evaluate) (3.5.0)\n",
      "Requirement already satisfied: multiprocess in c:\\users\\sirah\\appdata\\local\\programs\\python\\python311\\lib\\site-packages (from evaluate) (0.70.16)\n",
      "Requirement already satisfied: fsspec[http]>=2021.05.0 in c:\\users\\sirah\\appdata\\local\\programs\\python\\python311\\lib\\site-packages (from evaluate) (2024.9.0)\n",
      "Requirement already satisfied: huggingface-hub>=0.7.0 in c:\\users\\sirah\\appdata\\local\\programs\\python\\python311\\lib\\site-packages (from evaluate) (0.26.2)\n",
      "Requirement already satisfied: packaging in c:\\users\\sirah\\appdata\\local\\programs\\python\\python311\\lib\\site-packages (from evaluate) (23.2)\n",
      "Requirement already satisfied: filelock in c:\\users\\sirah\\appdata\\local\\programs\\python\\python311\\lib\\site-packages (from datasets>=2.0.0->evaluate) (3.16.1)\n",
      "Requirement already satisfied: pyarrow>=15.0.0 in c:\\users\\sirah\\appdata\\local\\programs\\python\\python311\\lib\\site-packages (from datasets>=2.0.0->evaluate) (18.0.0)\n",
      "Requirement already satisfied: aiohttp in c:\\users\\sirah\\appdata\\local\\programs\\python\\python311\\lib\\site-packages (from datasets>=2.0.0->evaluate) (3.10.10)\n",
      "Requirement already satisfied: pyyaml>=5.1 in c:\\users\\sirah\\appdata\\local\\programs\\python\\python311\\lib\\site-packages (from datasets>=2.0.0->evaluate) (6.0.2)\n",
      "Requirement already satisfied: typing-extensions>=3.7.4.3 in c:\\users\\sirah\\appdata\\local\\programs\\python\\python311\\lib\\site-packages (from huggingface-hub>=0.7.0->evaluate) (4.12.2)\n",
      "Requirement already satisfied: charset-normalizer<4,>=2 in c:\\users\\sirah\\appdata\\local\\programs\\python\\python311\\lib\\site-packages (from requests>=2.19.0->evaluate) (3.4.0)\n",
      "Requirement already satisfied: idna<4,>=2.5 in c:\\users\\sirah\\appdata\\local\\programs\\python\\python311\\lib\\site-packages (from requests>=2.19.0->evaluate) (3.10)\n",
      "Requirement already satisfied: urllib3<3,>=1.21.1 in c:\\users\\sirah\\appdata\\local\\programs\\python\\python311\\lib\\site-packages (from requests>=2.19.0->evaluate) (2.2.3)\n",
      "Requirement already satisfied: certifi>=2017.4.17 in c:\\users\\sirah\\appdata\\local\\programs\\python\\python311\\lib\\site-packages (from requests>=2.19.0->evaluate) (2024.8.30)\n",
      "Requirement already satisfied: colorama in c:\\users\\sirah\\appdata\\local\\programs\\python\\python311\\lib\\site-packages (from tqdm>=4.62.1->evaluate) (0.4.6)\n",
      "Requirement already satisfied: python-dateutil>=2.8.2 in c:\\users\\sirah\\appdata\\local\\programs\\python\\python311\\lib\\site-packages (from pandas->evaluate) (2.8.2)\n",
      "Requirement already satisfied: pytz>=2020.1 in c:\\users\\sirah\\appdata\\local\\programs\\python\\python311\\lib\\site-packages (from pandas->evaluate) (2023.3.post1)\n",
      "Requirement already satisfied: tzdata>=2022.1 in c:\\users\\sirah\\appdata\\local\\programs\\python\\python311\\lib\\site-packages (from pandas->evaluate) (2023.4)\n",
      "Requirement already satisfied: aiohappyeyeballs>=2.3.0 in c:\\users\\sirah\\appdata\\local\\programs\\python\\python311\\lib\\site-packages (from aiohttp->datasets>=2.0.0->evaluate) (2.4.3)\n",
      "Requirement already satisfied: aiosignal>=1.1.2 in c:\\users\\sirah\\appdata\\local\\programs\\python\\python311\\lib\\site-packages (from aiohttp->datasets>=2.0.0->evaluate) (1.3.1)\n",
      "Requirement already satisfied: attrs>=17.3.0 in c:\\users\\sirah\\appdata\\local\\programs\\python\\python311\\lib\\site-packages (from aiohttp->datasets>=2.0.0->evaluate) (24.2.0)\n",
      "Requirement already satisfied: frozenlist>=1.1.1 in c:\\users\\sirah\\appdata\\local\\programs\\python\\python311\\lib\\site-packages (from aiohttp->datasets>=2.0.0->evaluate) (1.5.0)\n",
      "Requirement already satisfied: multidict<7.0,>=4.5 in c:\\users\\sirah\\appdata\\local\\programs\\python\\python311\\lib\\site-packages (from aiohttp->datasets>=2.0.0->evaluate) (6.1.0)\n",
      "Requirement already satisfied: yarl<2.0,>=1.12.0 in c:\\users\\sirah\\appdata\\local\\programs\\python\\python311\\lib\\site-packages (from aiohttp->datasets>=2.0.0->evaluate) (1.17.1)\n",
      "Requirement already satisfied: six>=1.5 in c:\\users\\sirah\\appdata\\local\\programs\\python\\python311\\lib\\site-packages (from python-dateutil>=2.8.2->pandas->evaluate) (1.16.0)\n",
      "Requirement already satisfied: propcache>=0.2.0 in c:\\users\\sirah\\appdata\\local\\programs\\python\\python311\\lib\\site-packages (from yarl<2.0,>=1.12.0->aiohttp->datasets>=2.0.0->evaluate) (0.2.0)\n",
      "Note: you may need to restart the kernel to use updated packages.\n"
     ]
    },
    {
     "name": "stderr",
     "output_type": "stream",
     "text": [
      "\n",
      "[notice] A new release of pip is available: 23.2.1 -> 24.3.1\n",
      "[notice] To update, run: python.exe -m pip install --upgrade pip\n"
     ]
    }
   ],
   "source": [
    "%pip install evaluate"
   ]
  },
  {
   "cell_type": "code",
   "execution_count": 26,
   "id": "11493df4-feb5-4f37-b5e9-b4b1ca5b1a65",
   "metadata": {},
   "outputs": [
    {
     "name": "stdout",
     "output_type": "stream",
     "text": [
      "Requirement already satisfied: rouge_score in c:\\users\\sirah\\appdata\\local\\programs\\python\\python311\\lib\\site-packages (0.1.2)\n",
      "Requirement already satisfied: absl-py in c:\\users\\sirah\\appdata\\local\\programs\\python\\python311\\lib\\site-packages (from rouge_score) (2.1.0)\n",
      "Requirement already satisfied: nltk in c:\\users\\sirah\\appdata\\local\\programs\\python\\python311\\lib\\site-packages (from rouge_score) (3.9.1)\n",
      "Requirement already satisfied: numpy in c:\\users\\sirah\\appdata\\local\\programs\\python\\python311\\lib\\site-packages (from rouge_score) (1.26.3)\n",
      "Requirement already satisfied: six>=1.14.0 in c:\\users\\sirah\\appdata\\local\\programs\\python\\python311\\lib\\site-packages (from rouge_score) (1.16.0)\n",
      "Requirement already satisfied: click in c:\\users\\sirah\\appdata\\local\\programs\\python\\python311\\lib\\site-packages (from nltk->rouge_score) (8.1.7)\n",
      "Requirement already satisfied: joblib in c:\\users\\sirah\\appdata\\local\\programs\\python\\python311\\lib\\site-packages (from nltk->rouge_score) (1.4.2)\n",
      "Requirement already satisfied: regex>=2021.8.3 in c:\\users\\sirah\\appdata\\local\\programs\\python\\python311\\lib\\site-packages (from nltk->rouge_score) (2024.11.6)\n",
      "Requirement already satisfied: tqdm in c:\\users\\sirah\\appdata\\local\\programs\\python\\python311\\lib\\site-packages (from nltk->rouge_score) (4.67.1)\n",
      "Requirement already satisfied: colorama in c:\\users\\sirah\\appdata\\local\\programs\\python\\python311\\lib\\site-packages (from click->nltk->rouge_score) (0.4.6)\n",
      "Note: you may need to restart the kernel to use updated packages.\n"
     ]
    },
    {
     "name": "stderr",
     "output_type": "stream",
     "text": [
      "\n",
      "[notice] A new release of pip is available: 23.2.1 -> 24.3.1\n",
      "[notice] To update, run: python.exe -m pip install --upgrade pip\n"
     ]
    }
   ],
   "source": [
    "%pip install rouge_score"
   ]
  },
  {
   "cell_type": "code",
   "execution_count": 27,
   "id": "f0ba987a-efaa-45aa-bc55-582e2382b0dd",
   "metadata": {},
   "outputs": [
    {
     "name": "stdout",
     "output_type": "stream",
     "text": [
      "Requirement already satisfied: bert_score in c:\\users\\sirah\\appdata\\local\\programs\\python\\python311\\lib\\site-packages (0.3.13)\n",
      "Requirement already satisfied: torch>=1.0.0 in c:\\users\\sirah\\appdata\\local\\programs\\python\\python311\\lib\\site-packages (from bert_score) (2.5.1)\n",
      "Requirement already satisfied: pandas>=1.0.1 in c:\\users\\sirah\\appdata\\local\\programs\\python\\python311\\lib\\site-packages (from bert_score) (2.1.4)\n",
      "Requirement already satisfied: transformers>=3.0.0 in c:\\users\\sirah\\appdata\\roaming\\python\\python311\\site-packages (from bert_score) (4.40.1)\n",
      "Requirement already satisfied: numpy in c:\\users\\sirah\\appdata\\local\\programs\\python\\python311\\lib\\site-packages (from bert_score) (1.26.3)\n",
      "Requirement already satisfied: requests in c:\\users\\sirah\\appdata\\local\\programs\\python\\python311\\lib\\site-packages (from bert_score) (2.32.3)\n",
      "Requirement already satisfied: tqdm>=4.31.1 in c:\\users\\sirah\\appdata\\local\\programs\\python\\python311\\lib\\site-packages (from bert_score) (4.67.1)\n",
      "Requirement already satisfied: matplotlib in c:\\users\\sirah\\appdata\\local\\programs\\python\\python311\\lib\\site-packages (from bert_score) (3.8.2)\n",
      "Requirement already satisfied: packaging>=20.9 in c:\\users\\sirah\\appdata\\local\\programs\\python\\python311\\lib\\site-packages (from bert_score) (23.2)\n",
      "Requirement already satisfied: python-dateutil>=2.8.2 in c:\\users\\sirah\\appdata\\local\\programs\\python\\python311\\lib\\site-packages (from pandas>=1.0.1->bert_score) (2.8.2)\n",
      "Requirement already satisfied: pytz>=2020.1 in c:\\users\\sirah\\appdata\\local\\programs\\python\\python311\\lib\\site-packages (from pandas>=1.0.1->bert_score) (2023.3.post1)\n",
      "Requirement already satisfied: tzdata>=2022.1 in c:\\users\\sirah\\appdata\\local\\programs\\python\\python311\\lib\\site-packages (from pandas>=1.0.1->bert_score) (2023.4)\n",
      "Requirement already satisfied: filelock in c:\\users\\sirah\\appdata\\local\\programs\\python\\python311\\lib\\site-packages (from torch>=1.0.0->bert_score) (3.16.1)\n",
      "Requirement already satisfied: typing-extensions>=4.8.0 in c:\\users\\sirah\\appdata\\local\\programs\\python\\python311\\lib\\site-packages (from torch>=1.0.0->bert_score) (4.12.2)\n",
      "Requirement already satisfied: networkx in c:\\users\\sirah\\appdata\\local\\programs\\python\\python311\\lib\\site-packages (from torch>=1.0.0->bert_score) (3.4.2)\n",
      "Requirement already satisfied: jinja2 in c:\\users\\sirah\\appdata\\local\\programs\\python\\python311\\lib\\site-packages (from torch>=1.0.0->bert_score) (3.1.4)\n",
      "Requirement already satisfied: fsspec in c:\\users\\sirah\\appdata\\local\\programs\\python\\python311\\lib\\site-packages (from torch>=1.0.0->bert_score) (2024.9.0)\n",
      "Requirement already satisfied: sympy==1.13.1 in c:\\users\\sirah\\appdata\\local\\programs\\python\\python311\\lib\\site-packages (from torch>=1.0.0->bert_score) (1.13.1)\n",
      "Requirement already satisfied: mpmath<1.4,>=1.1.0 in c:\\users\\sirah\\appdata\\local\\programs\\python\\python311\\lib\\site-packages (from sympy==1.13.1->torch>=1.0.0->bert_score) (1.3.0)\n",
      "Requirement already satisfied: colorama in c:\\users\\sirah\\appdata\\local\\programs\\python\\python311\\lib\\site-packages (from tqdm>=4.31.1->bert_score) (0.4.6)\n",
      "Requirement already satisfied: huggingface-hub<1.0,>=0.19.3 in c:\\users\\sirah\\appdata\\local\\programs\\python\\python311\\lib\\site-packages (from transformers>=3.0.0->bert_score) (0.26.2)\n",
      "Requirement already satisfied: pyyaml>=5.1 in c:\\users\\sirah\\appdata\\local\\programs\\python\\python311\\lib\\site-packages (from transformers>=3.0.0->bert_score) (6.0.2)\n",
      "Requirement already satisfied: regex!=2019.12.17 in c:\\users\\sirah\\appdata\\local\\programs\\python\\python311\\lib\\site-packages (from transformers>=3.0.0->bert_score) (2024.11.6)\n",
      "Requirement already satisfied: tokenizers<0.20,>=0.19 in c:\\users\\sirah\\appdata\\local\\programs\\python\\python311\\lib\\site-packages (from transformers>=3.0.0->bert_score) (0.19.1)\n",
      "Requirement already satisfied: safetensors>=0.4.1 in c:\\users\\sirah\\appdata\\local\\programs\\python\\python311\\lib\\site-packages (from transformers>=3.0.0->bert_score) (0.4.5)\n",
      "Requirement already satisfied: contourpy>=1.0.1 in c:\\users\\sirah\\appdata\\local\\programs\\python\\python311\\lib\\site-packages (from matplotlib->bert_score) (1.2.0)\n",
      "Requirement already satisfied: cycler>=0.10 in c:\\users\\sirah\\appdata\\local\\programs\\python\\python311\\lib\\site-packages (from matplotlib->bert_score) (0.12.1)\n",
      "Requirement already satisfied: fonttools>=4.22.0 in c:\\users\\sirah\\appdata\\local\\programs\\python\\python311\\lib\\site-packages (from matplotlib->bert_score) (4.47.2)\n",
      "Requirement already satisfied: kiwisolver>=1.3.1 in c:\\users\\sirah\\appdata\\local\\programs\\python\\python311\\lib\\site-packages (from matplotlib->bert_score) (1.4.5)\n",
      "Requirement already satisfied: pillow>=8 in c:\\users\\sirah\\appdata\\local\\programs\\python\\python311\\lib\\site-packages (from matplotlib->bert_score) (10.4.0)\n",
      "Requirement already satisfied: pyparsing>=2.3.1 in c:\\users\\sirah\\appdata\\local\\programs\\python\\python311\\lib\\site-packages (from matplotlib->bert_score) (3.1.1)\n",
      "Requirement already satisfied: charset-normalizer<4,>=2 in c:\\users\\sirah\\appdata\\local\\programs\\python\\python311\\lib\\site-packages (from requests->bert_score) (3.4.0)\n",
      "Requirement already satisfied: idna<4,>=2.5 in c:\\users\\sirah\\appdata\\local\\programs\\python\\python311\\lib\\site-packages (from requests->bert_score) (3.10)\n",
      "Requirement already satisfied: urllib3<3,>=1.21.1 in c:\\users\\sirah\\appdata\\local\\programs\\python\\python311\\lib\\site-packages (from requests->bert_score) (2.2.3)\n",
      "Requirement already satisfied: certifi>=2017.4.17 in c:\\users\\sirah\\appdata\\local\\programs\\python\\python311\\lib\\site-packages (from requests->bert_score) (2024.8.30)\n",
      "Requirement already satisfied: six>=1.5 in c:\\users\\sirah\\appdata\\local\\programs\\python\\python311\\lib\\site-packages (from python-dateutil>=2.8.2->pandas>=1.0.1->bert_score) (1.16.0)\n",
      "Requirement already satisfied: MarkupSafe>=2.0 in c:\\users\\sirah\\appdata\\local\\programs\\python\\python311\\lib\\site-packages (from jinja2->torch>=1.0.0->bert_score) (2.1.5)\n",
      "Note: you may need to restart the kernel to use updated packages.\n"
     ]
    },
    {
     "name": "stderr",
     "output_type": "stream",
     "text": [
      "\n",
      "[notice] A new release of pip is available: 23.2.1 -> 24.3.1\n",
      "[notice] To update, run: python.exe -m pip install --upgrade pip\n"
     ]
    }
   ],
   "source": [
    "%pip install bert_score"
   ]
  },
  {
   "cell_type": "code",
   "execution_count": 28,
   "id": "0604fc53-3094-4adf-ba87-55b1d755a335",
   "metadata": {},
   "outputs": [],
   "source": [
    "import csv\n",
    "from datetime import datetime\n",
    "import evaluate\n",
    "from evaluate import load\n",
    "\n",
    "# Define the questions\n",
    "questions = [\n",
    "    \"Is Sauron the same race as Gandalf?\",\n",
    "    \"How old is treebeard?\",\n",
    "    \"What was the purpose of the Istari (Wizards) in Middle-earth?\",\n",
    "    \"What is Númenor, and why did it fall?\",\n",
    "    \"Who are the Valar, and what is their role in Middle-earth?\",\n",
    "    \"What is the significance of the Silmarils?\",\n",
    "    \"What is the origin of Orcs?\",\n",
    "    \"Why was Aragorn known by so many names?\",\n",
    "    \"What is the significance of Smaug in Middle-earth’s history?\",\n",
    "    \"What is the Undying Lands, and why can only certain beings go there?\",\n",
    "]\n",
    "\n",
    "answers = [\n",
    "    \"Sauron and Gandalf were both Maiar: a supernatural race that serve the Valar, and many Maiar assumed different forms. Gandalf is one of five Wizards, a group of Maiar originally sent to Middle-earth by the Valar to aid the resistance against Sauron, and were given the appearance of old men.\",\n",
    "    \"Gandalf calls Treebeard, the oldest living thing that still walks beneath the Sun upon this Middle-earth. Later, Celeborn would address him as Eldest.\",\n",
    "    \"The Istari were sent by the Valar in the Third Age to assist the Free Peoples against Sauron. They were forbidden from using their full powers to dominate or confront him directly, instead guiding and inspiring others. Gandalf, Saruman, Radagast, and the two Blue Wizards fulfilled varying degrees of this mission, with Gandalf ultimately playing the pivotal role in Sauron’s defeat.\",\n",
    "    \"Númenor was a great island kingdom gifted to Men by the Valar after the defeat of Morgoth. It became a center of culture and power during the Second Age. However, its people grew arrogant, defied the Valar, and sought immortality. Sauron's corruption of the Númenóreans led to their attempt to invade Valinor, resulting in the island's destruction and the eventual exile of the Faithful to Middle-earth.\",\n",
    "    \"The Valar are powerful beings, akin to gods, who shaped and governed Arda (the world). They were created by Eru Ilúvatar and represent different aspects of the world, such as nature, craftsmanship, and healing. While they rarely intervene directly in Middle-earth after the First Age, their guidance and decisions have a profound impact on its history.\",\n",
    "    \"The Silmarils are three legendary jewels crafted by Fëanor, containing the light of the Two Trees of Valinor. They symbolize the greatest beauty and the most destructive greed in Tolkien's world. Their theft by Morgoth and the resulting Oath of Fëanor led to the First Age's tragedies, including wars, betrayals, and the eventual downfall of many Elves and Men.\",\n",
    "    \"Orcs were originally Elves, captured and corrupted by Morgoth during the early days of Middle-earth. They were twisted through torture and dark sorcery, becoming his servants. This perversion of life was one of Morgoth’s most heinous acts, symbolizing his contempt for creation and his inability to create life on his own.\",\n",
    "    \"Aragorn’s many names reflect his complex identity and the roles he played. Strider was his ranger alias, Thorongil was his name during his service in Rohan and Gondor, and Elessar was his kingly title. These names illustrate his journey from a wandering protector to the unifying King of Gondor and Arnor.\",\n",
    "    \"Smaug was the last great dragon of Middle-earth, whose greed and destruction exemplified the corrupting power of wealth. His conquest of Erebor disrupted the balance of power in the north, creating a chain of events that ultimately led to the Battle of the Five Armies and the restoration of the Kingdom under the Mountain.\",\n",
    "    \"The Undying Lands, or Valinor, are the dwelling place of the Valar and Elves. It is a realm of immortality and peace, separate from the mortal world. Only immortals or those granted special permission (like Frodo and Bilbo) may enter, as it is meant to be a haven for those beyond the toil of mortal life.\",\n",
    "]\n",
    "\n",
    "# File name for the CSV\n",
    "csv_file = \"lotr_ALL_1_video.csv\"\n",
    "\n",
    "# Open a CSV file for writing\n",
    "with open(csv_file, mode=\"w\", newline=\"\", encoding=\"utf-8\") as file:\n",
    "    writer = csv.writer(file)\n",
    "    writer.writerow([\"Question\", \"Run Number\", \"Answer\", \"Duration (Seconds)\", \"BLEU-score\", \"ROUGE-score\", \"BERT-score\", \"BERT-precision\", \"BERT-recall\", \"BERT-f1\", \"CORRECT?\", \"COMPREHENSIVE?\", \"CONTRADICTORY\", \"FALSE INFORMATION\", \"PARTIAL CORRECT\"])  # Header row\n",
    "\n",
    "    # Loop through each question and get answers\n",
    "    for question, correct_answer in zip(questions, answers):\n",
    "        for run_number in range(1, 1):  # Adjust the range for the desired number of runs\n",
    "            start_time = datetime.now()\n",
    "\n",
    "            try:\n",
    "                # Simulate chain invocation (replace with actual invocation logic)\n",
    "                result = chain.invoke(question)\n",
    "                end_time = datetime.now()\n",
    "                duration = (end_time - start_time).total_seconds()  # Calculate the duration in seconds\n",
    "                formatted_duration = f\"{duration:.2f}\"\n",
    "\n",
    "                # Evaluate scores\n",
    "                bleu = evaluate.load(\"bleu\")\n",
    "                rouge = evaluate.load(\"rouge\")\n",
    "                bertscore = load(\"bertscore\")\n",
    "\n",
    "                bleu_results = bleu.compute(predictions=[result], references=[[correct_answer]])\n",
    "                rouge_results = rouge.compute(predictions=[result], references=[[correct_answer]])\n",
    "                bert_results = bertscore.compute(predictions=[result], references=[[correct_answer]], model_type=\"distilbert-base-uncased\")\n",
    "                bert_precision = sum(bert_results[\"precision\"]) / len(bert_results[\"precision\"])\n",
    "                bert_recall = sum(bert_results[\"recall\"]) / len(bert_results[\"recall\"])\n",
    "                bert_f1 = sum(bert_results[\"f1\"]) / len(bert_results[\"f1\"])\n",
    "\n",
    "                # Write results to the CSV\n",
    "                writer.writerow([question, run_number, result, formatted_duration, bleu_results, rouge_results, bert_results, bert_precision, bert_recall, bert_f1])\n",
    "                print(f\"Run {run_number} for question '{question}': {result} \\nTime taken: {formatted_duration} seconds {bleu_results} {rouge_results} {bert_results} {bert_precision}\\n\")\n",
    "\n",
    "            except Exception as e:\n",
    "                end_time = datetime.now()\n",
    "                duration = (end_time - start_time).total_seconds()  # Calculate the duration in seconds\n",
    "                formatted_duration = f\"{duration:.2f}\"\n",
    "\n",
    "                # Log error in CSV\n",
    "                print(f\"Error on run {run_number} for question '{question}': {e}\")\n",
    "                writer.writerow([question, run_number, \"Error occurred\", formatted_duration])\n",
    "\n",
    "        # Add five extra newline rows between each question\n",
    "        writer.writerow([\"\"])\n",
    "\n",
    "# Calculate the average precision, recall, and F1 scores for each question\n",
    "question_metrics = {}\n",
    "\n",
    "with open(csv_file, mode=\"r\", encoding=\"utf-8\") as file:\n",
    "    reader = csv.DictReader(file)\n",
    "\n",
    "    for row in reader:\n",
    "        # Skip rows without valid metrics\n",
    "        question = row[\"Question\"]\n",
    "        bert_precision = row.get(\"BERT-precision\")\n",
    "        bert_recall = row.get(\"BERT-recall\")\n",
    "        bert_f1 = row.get(\"BERT-f1\")\n",
    "\n",
    "        if question:\n",
    "            if question not in question_metrics:\n",
    "                question_metrics[question] = {\"precision\": [], \"recall\": [], \"f1\": []}\n",
    "            try:\n",
    "                if bert_precision:\n",
    "                    question_metrics[question][\"precision\"].append(float(bert_precision))\n",
    "                if bert_recall:\n",
    "                    question_metrics[question][\"recall\"].append(float(bert_recall))\n",
    "                if bert_f1:\n",
    "                    question_metrics[question][\"f1\"].append(float(bert_f1))\n",
    "            except ValueError:\n",
    "                continue\n",
    "\n",
    "average_metrics = {\n",
    "    q: {\n",
    "        \"precision\": sum(scores[\"precision\"]) / len(scores[\"precision\"]) if scores[\"precision\"] else 0,\n",
    "        \"recall\": sum(scores[\"recall\"]) / len(scores[\"recall\"]) if scores[\"recall\"] else 0,\n",
    "        \"f1\": sum(scores[\"f1\"]) / len(scores[\"f1\"]) if scores[\"f1\"] else 0,\n",
    "    }\n",
    "    for q, scores in question_metrics.items()\n",
    "}\n",
    "\n",
    "# Append the averages to the CSV file\n",
    "with open(csv_file, mode=\"a\", newline=\"\", encoding=\"utf-8\") as file:\n",
    "    writer = csv.writer(file)\n",
    "    writer.writerow([])  # Add a blank line\n",
    "    writer.writerow([\"Question\", \"Average BERT-precision\", \"Average BERT-recall\", \"Average BERT-f1\"])  # Header for averages\n",
    "\n",
    "    for question, metrics in average_metrics.items():\n",
    "        writer.writerow([question, f\"{metrics['precision']:.4f}\", f\"{metrics['recall']:.4f}\", f\"{metrics['f1']:.4f}\"])\n",
    "        print(f\"Average metrics for '{question}': Precision={metrics['precision']:.4f}, Recall={metrics['recall']:.4f}, F1={metrics['f1']:.4f}\")\n"
   ]
  },
  {
   "cell_type": "markdown",
   "id": "f9db58d1-4eac-4b06-bfa6-e18942d2b6e4",
   "metadata": {},
   "source": [
    "# FLASK"
   ]
  },
  {
   "cell_type": "code",
   "execution_count": 29,
   "id": "6e5bbd43-1d3a-4695-bd3b-86ca8d94fd20",
   "metadata": {},
   "outputs": [
    {
     "name": "stdout",
     "output_type": "stream",
     "text": [
      "Note: you may need to restart the kernel to use updated packages.\n"
     ]
    },
    {
     "name": "stderr",
     "output_type": "stream",
     "text": [
      "\n",
      "[notice] A new release of pip is available: 23.2.1 -> 24.3.1\n",
      "[notice] To update, run: python.exe -m pip install --upgrade pip\n"
     ]
    },
    {
     "name": "stdout",
     "output_type": "stream",
     "text": [
      "Requirement already satisfied: flask in c:\\users\\sirah\\appdata\\local\\programs\\python\\python311\\lib\\site-packages (3.1.0)\n",
      "Requirement already satisfied: Werkzeug>=3.1 in c:\\users\\sirah\\appdata\\local\\programs\\python\\python311\\lib\\site-packages (from flask) (3.1.3)\n",
      "Requirement already satisfied: Jinja2>=3.1.2 in c:\\users\\sirah\\appdata\\local\\programs\\python\\python311\\lib\\site-packages (from flask) (3.1.4)\n",
      "Requirement already satisfied: itsdangerous>=2.2 in c:\\users\\sirah\\appdata\\local\\programs\\python\\python311\\lib\\site-packages (from flask) (2.2.0)\n",
      "Requirement already satisfied: click>=8.1.3 in c:\\users\\sirah\\appdata\\local\\programs\\python\\python311\\lib\\site-packages (from flask) (8.1.7)\n",
      "Requirement already satisfied: blinker>=1.9 in c:\\users\\sirah\\appdata\\local\\programs\\python\\python311\\lib\\site-packages (from flask) (1.9.0)\n",
      "Requirement already satisfied: colorama in c:\\users\\sirah\\appdata\\local\\programs\\python\\python311\\lib\\site-packages (from click>=8.1.3->flask) (0.4.6)\n",
      "Requirement already satisfied: MarkupSafe>=2.0 in c:\\users\\sirah\\appdata\\local\\programs\\python\\python311\\lib\\site-packages (from Jinja2>=3.1.2->flask) (2.1.5)\n"
     ]
    }
   ],
   "source": [
    "%pip install flask"
   ]
  },
  {
   "cell_type": "code",
   "execution_count": 30,
   "id": "7210fbb4-a160-4050-ae8f-297dd9e71198",
   "metadata": {},
   "outputs": [
    {
     "name": "stdout",
     "output_type": "stream",
     "text": [
      "Requirement already satisfied: flask-cors in c:\\users\\sirah\\appdata\\local\\programs\\python\\python311\\lib\\site-packages (5.0.0)\n",
      "Requirement already satisfied: Flask>=0.9 in c:\\users\\sirah\\appdata\\local\\programs\\python\\python311\\lib\\site-packages (from flask-cors) (3.1.0)\n",
      "Requirement already satisfied: Werkzeug>=3.1 in c:\\users\\sirah\\appdata\\local\\programs\\python\\python311\\lib\\site-packages (from Flask>=0.9->flask-cors) (3.1.3)\n",
      "Requirement already satisfied: Jinja2>=3.1.2 in c:\\users\\sirah\\appdata\\local\\programs\\python\\python311\\lib\\site-packages (from Flask>=0.9->flask-cors) (3.1.4)\n",
      "Requirement already satisfied: itsdangerous>=2.2 in c:\\users\\sirah\\appdata\\local\\programs\\python\\python311\\lib\\site-packages (from Flask>=0.9->flask-cors) (2.2.0)\n",
      "Requirement already satisfied: click>=8.1.3 in c:\\users\\sirah\\appdata\\local\\programs\\python\\python311\\lib\\site-packages (from Flask>=0.9->flask-cors) (8.1.7)\n",
      "Requirement already satisfied: blinker>=1.9 in c:\\users\\sirah\\appdata\\local\\programs\\python\\python311\\lib\\site-packages (from Flask>=0.9->flask-cors) (1.9.0)\n",
      "Requirement already satisfied: colorama in c:\\users\\sirah\\appdata\\local\\programs\\python\\python311\\lib\\site-packages (from click>=8.1.3->Flask>=0.9->flask-cors) (0.4.6)\n",
      "Requirement already satisfied: MarkupSafe>=2.0 in c:\\users\\sirah\\appdata\\local\\programs\\python\\python311\\lib\\site-packages (from Jinja2>=3.1.2->Flask>=0.9->flask-cors) (2.1.5)\n",
      "Note: you may need to restart the kernel to use updated packages.\n"
     ]
    },
    {
     "name": "stderr",
     "output_type": "stream",
     "text": [
      "\n",
      "[notice] A new release of pip is available: 23.2.1 -> 24.3.1\n",
      "[notice] To update, run: python.exe -m pip install --upgrade pip\n"
     ]
    }
   ],
   "source": [
    "%pip install flask-cors"
   ]
  },
  {
   "cell_type": "code",
   "execution_count": 31,
   "id": "05eedd9c-af45-41fe-aeb1-ad442c13c5a5",
   "metadata": {},
   "outputs": [
    {
     "name": "stdout",
     "output_type": "stream",
     "text": [
      "Flask app is running in the background on port 5000.\n",
      " * Serving Flask app '__main__'\n",
      " * Debug mode: off\n"
     ]
    },
    {
     "name": "stderr",
     "output_type": "stream",
     "text": [
      "WARNING: This is a development server. Do not use it in a production deployment. Use a production WSGI server instead.\n",
      " * Running on http://127.0.0.1:5000\n",
      "Press CTRL+C to quit\n",
      "127.0.0.1 - - [05/Jan/2025 09:19:07] \"OPTIONS /invoke HTTP/1.1\" 200 -\n",
      "127.0.0.1 - - [05/Jan/2025 09:19:17] \"POST /invoke HTTP/1.1\" 200 -\n",
      "127.0.0.1 - - [05/Jan/2025 09:21:51] \"OPTIONS /invoke HTTP/1.1\" 200 -\n",
      "127.0.0.1 - - [05/Jan/2025 09:21:59] \"POST /invoke HTTP/1.1\" 200 -\n",
      "127.0.0.1 - - [05/Jan/2025 09:23:31] \"OPTIONS /invoke HTTP/1.1\" 200 -\n",
      "127.0.0.1 - - [05/Jan/2025 09:23:38] \"POST /invoke HTTP/1.1\" 200 -\n",
      "127.0.0.1 - - [05/Jan/2025 09:24:13] \"OPTIONS /invoke HTTP/1.1\" 200 -\n",
      "127.0.0.1 - - [05/Jan/2025 09:24:22] \"POST /invoke HTTP/1.1\" 200 -\n",
      "127.0.0.1 - - [05/Jan/2025 09:26:44] \"OPTIONS /invoke HTTP/1.1\" 200 -\n",
      "127.0.0.1 - - [05/Jan/2025 09:26:51] \"POST /invoke HTTP/1.1\" 200 -\n",
      "127.0.0.1 - - [05/Jan/2025 09:27:20] \"OPTIONS /invoke HTTP/1.1\" 200 -\n",
      "127.0.0.1 - - [05/Jan/2025 09:27:26] \"POST /invoke HTTP/1.1\" 200 -\n",
      "127.0.0.1 - - [05/Jan/2025 09:27:51] \"OPTIONS /invoke HTTP/1.1\" 200 -\n",
      "127.0.0.1 - - [05/Jan/2025 09:28:00] \"POST /invoke HTTP/1.1\" 200 -\n",
      "127.0.0.1 - - [05/Jan/2025 09:29:07] \"OPTIONS /invoke HTTP/1.1\" 200 -\n",
      "127.0.0.1 - - [05/Jan/2025 09:29:16] \"POST /invoke HTTP/1.1\" 200 -\n",
      "127.0.0.1 - - [05/Jan/2025 09:30:46] \"OPTIONS /invoke HTTP/1.1\" 200 -\n",
      "127.0.0.1 - - [05/Jan/2025 09:30:56] \"POST /invoke HTTP/1.1\" 200 -\n",
      "127.0.0.1 - - [05/Jan/2025 09:31:13] \"OPTIONS /invoke HTTP/1.1\" 200 -\n",
      "127.0.0.1 - - [05/Jan/2025 09:31:22] \"POST /invoke HTTP/1.1\" 200 -\n",
      "127.0.0.1 - - [05/Jan/2025 12:16:28] \"GET / HTTP/1.1\" 200 -\n",
      "127.0.0.1 - - [05/Jan/2025 12:16:28] \"GET /favicon.ico HTTP/1.1\" 404 -\n"
     ]
    }
   ],
   "source": [
    "# Flask API\n",
    "from flask import Flask, request, jsonify\n",
    "import threading\n",
    "from flask_cors import CORS\n",
    "\n",
    "\n",
    "# Create a fresh Flask app instance\n",
    "app = Flask(__name__)\n",
    "CORS(app)\n",
    "# Define the function to be exposed\n",
    "def chain_invoke(question):\n",
    "    # This would call your `chain.invoke` method in the notebook\n",
    "    # Example placeholder logic:\n",
    "    response = chain.invoke(question)  # Assuming chain is defined in the notebook\n",
    "    return response\n",
    "# Root route\n",
    "@app.route('/')\n",
    "def home():\n",
    "    return \"Flask API is running! Use the /invoke endpoint for queries.\"\n",
    "# Define API endpoint\n",
    "@app.route('/invoke', methods=['POST'])\n",
    "def invoke():\n",
    "    try:\n",
    "        # Parse JSON request\n",
    "        data = request.json\n",
    "        question = data.get('question', '')\n",
    "\n",
    "        if not question:\n",
    "            return jsonify({\"error\": \"Question is required\"}), 400\n",
    "\n",
    "        # Call your chain.invoke function\n",
    "        response = chain.invoke(question)\n",
    "\n",
    "        # Return the response to the client\n",
    "        return jsonify({\"response\": response})\n",
    "    except Exception as e:\n",
    "        return jsonify({\"error\": str(e)}), 500\n",
    "# Run Flask app in a background thread\n",
    "def run_flask():\n",
    "    app.run(port=5000, debug=False, use_reloader=False)\n",
    "\n",
    "flask_thread = threading.Thread(target=run_flask)\n",
    "flask_thread.daemon = True\n",
    "flask_thread.start()\n",
    "print(\"Flask app is running in the background on port 5000.\")"
   ]
  },
  {
   "cell_type": "code",
   "execution_count": null,
   "id": "e71f2cba-b621-4b24-9dc3-f0878277ea89",
   "metadata": {
    "collapsed": true,
    "jupyter": {
     "outputs_hidden": true
    }
   },
   "outputs": [],
   "source": []
  }
 ],
 "metadata": {
  "kernelspec": {
   "display_name": "Python 3 (ipykernel)",
   "language": "python",
   "name": "python3"
  },
  "language_info": {
   "codemirror_mode": {
    "name": "ipython",
    "version": 3
   },
   "file_extension": ".py",
   "mimetype": "text/x-python",
   "name": "python",
   "nbconvert_exporter": "python",
   "pygments_lexer": "ipython3",
   "version": "3.11.5"
  }
 },
 "nbformat": 4,
 "nbformat_minor": 5
}
